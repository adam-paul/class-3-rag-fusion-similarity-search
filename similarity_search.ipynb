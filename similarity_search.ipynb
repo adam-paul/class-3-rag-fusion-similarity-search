{
 "cells": [
  {
   "cell_type": "code",
   "execution_count": 1,
   "metadata": {
    "id": "GfTi_wjDKROt"
   },
   "outputs": [],
   "source": [
    "# %pip install faiss-cpu langchain_openai langchain_community"
   ]
  },
  {
   "cell_type": "code",
   "execution_count": 2,
   "metadata": {
    "id": "6UiQgR95KP90"
   },
   "outputs": [
    {
     "name": "stdout",
     "output_type": "stream",
     "text": [
      "[-0.005823844112455845, -0.024085838347673416, -0.022070934996008873, 0.02761966735124588, -0.0027666164096444845]\n"
     ]
    }
   ],
   "source": [
    "from langchain_openai import OpenAIEmbeddings\n",
    "from langchain_community.vectorstores.faiss import FAISS\n",
    "from langchain.schema.document import Document\n",
    "import os\n",
    "from dotenv import load_dotenv\n",
    "\n",
    "load_dotenv()\n",
    "\n",
    "os.environ[\"OPENAI_API_KEY\"] = os.getenv(\"OPENAI_API_KEY\")\n",
    "# Initialize the embeddings class\n",
    "embeddings = OpenAIEmbeddings(model=\"text-embedding-3-large\")\n",
    "\n",
    "# Embed a single query\n",
    "query = \"Hello, world!\"\n",
    "vector = embeddings.embed_query(query)\n",
    "print(vector[:5])\n"
   ]
  },
  {
   "cell_type": "code",
   "execution_count": 3,
   "metadata": {
    "id": "HTa6Z1DSKyrP"
   },
   "outputs": [
    {
     "name": "stdout",
     "output_type": "stream",
     "text": [
      "3 3072\n"
     ]
    }
   ],
   "source": [
    "\n",
    "# Embed multiple documents at once\n",
    "documents = [\"Alice works in finance\", \"Bob is a database administrator\", \"Carl manages Bob and Alice\"]\n",
    "\n",
    "# Convert the list of strings to a list of Document objects\n",
    "document_objects = [Document(page_content=doc) for doc in documents]\n",
    "\n",
    "# Embed the Document objects\n",
    "vectors = embeddings.embed_documents([doc.page_content for doc in document_objects])\n",
    "print(len(vectors), len(vectors[0]))\n"
   ]
  },
  {
   "cell_type": "code",
   "execution_count": 4,
   "metadata": {
    "id": "O1779ka_Lfbw"
   },
   "outputs": [
    {
     "name": "stdout",
     "output_type": "stream",
     "text": [
      "[(Document(page_content='Alice works in finance'), 0.7962496), (Document(page_content='Carl manages Bob and Alice'), 1.248132), (Document(page_content='Bob is a database administrator'), 1.6588588)]\n"
     ]
    }
   ],
   "source": [
    "\n",
    "# Initialize the FAISS database with the Document objects and embeddings\n",
    "db = FAISS.from_documents(document_objects, embeddings)\n",
    "\n",
    "query = \"Tell me about Alice\"\n",
    "docs = db.similarity_search(query)\n",
    "\n",
    "# Perform a similarity search with scores\n",
    "docs_and_scores = db.similarity_search_with_score(query)\n",
    "print(docs_and_scores)\n"
   ]
  },
  {
   "cell_type": "code",
   "execution_count": null,
   "metadata": {},
   "outputs": [],
   "source": []
  }
 ],
 "metadata": {
  "colab": {
   "provenance": []
  },
  "kernelspec": {
   "display_name": "Python 3 (ipykernel)",
   "language": "python",
   "name": "python3"
  },
  "language_info": {
   "codemirror_mode": {
    "name": "ipython",
    "version": 3
   },
   "file_extension": ".py",
   "mimetype": "text/x-python",
   "name": "python",
   "nbconvert_exporter": "python",
   "pygments_lexer": "ipython3",
   "version": "3.11.11"
  }
 },
 "nbformat": 4,
 "nbformat_minor": 4
}
